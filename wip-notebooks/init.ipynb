{
 "cells": [
  {
   "cell_type": "code",
   "execution_count": null,
   "id": "85e672f2-df03-4155-a6a6-a99cd80833f5",
   "metadata": {},
   "outputs": [],
   "source": [
    "import requests\n",
    "from xml.etree import ElementTree\n",
    "import networkx as nx\n",
    "import matplotlib.pyplot as plt\n",
    "from pyvis.network import Network\n",
    "from alive_progress import alive_bar\n",
    "import colour"
   ]
  },
  {
   "cell_type": "code",
   "execution_count": null,
   "id": "85257055-b242-406c-ad9d-a65518e3d414",
   "metadata": {},
   "outputs": [],
   "source": [
    "def remove_uninformative(graph):\n",
    "    nodes_to_remove = [node for node in graph.nodes() if graph.out_degree(node) == 0 and graph.in_degree(node) == 1]\n",
    "    print(f\"Removing {len(nodes_to_remove)} nodes\")\n",
    "    graph.remove_nodes_from(nodes_to_remove)\n",
    "    return graph\n",
    "\n",
    "def remove_orphans(graph):\n",
    "    nodes_to_remove = [node for node in graph.nodes() if graph.out_degree(node) == 0 and graph.in_degree(node) == 0]\n",
    "    print(f\"Removing {len(nodes_to_remove)} nodes\")\n",
    "    graph.remove_nodes_from(nodes_to_remove)\n",
    "    return graph"
   ]
  },
  {
   "cell_type": "code",
   "execution_count": null,
   "id": "5fdcebcc-b43e-4593-b2db-8a5127e1faa4",
   "metadata": {},
   "outputs": [],
   "source": [
    "# Get the most cited paper in the graph\n",
    "def get_most_cited(g, n=0, all_counts=False):\n",
    "    if all_counts:\n",
    "        return sorted(list(dg.in_degree()), key=lambda x: x[1], reverse=True)\n",
    "    if (isinstance(n, int)):\n",
    "        if n == 0:\n",
    "            return sorted(list(dg.in_degree()), key=lambda x: x[1], reverse=True)[0]\n",
    "        else:\n",
    "            return sorted(list(dg.in_degree()), key=lambda x: x[1], reverse=True)[n]\n",
    "    elif (isinstance(n, list)):\n",
    "        ret = []\n",
    "        s = sorted(list(dg.in_degree()), key=lambda x: x[1], reverse=True)\n",
    "        for i in n:\n",
    "            ret.append(s[i])\n",
    "        return ret"
   ]
  },
  {
   "cell_type": "code",
   "execution_count": null,
   "id": "2d323d6d-b610-40a6-a727-96a6566ae874",
   "metadata": {},
   "outputs": [],
   "source": [
    "def get_papers(keyword, pages=1, perPage=15):\n",
    "    # Build the URL for the search endpoint with the keyword query.\n",
    "    url = f\"https://www.ebi.ac.uk/europepmc/webservices/rest/search?query={keyword}&page={pages}&pageSize={perPage}&format=xml\"\n",
    "\n",
    "    # Get the XML response from Europe PMC.\n",
    "    response = requests.get(url)\n",
    "\n",
    "    # Parse the XML into an ElementTree.\n",
    "    pmids = []\n",
    "    tree = ElementTree.fromstring(response.content)\n",
    "    for result in tree.findall('.//result'):\n",
    "        pmid_elem = result.find('pmid')\n",
    "        if pmid_elem is not None:\n",
    "            pmids.append(pmid_elem.text)\n",
    "    #print(pmids)\n",
    "    hit_count_elem = tree.find('.//hitCount')\n",
    "    #if hit_count_elem is not None:\n",
    "    #    print(\"Total hits:\", hit_count_elem.text)\n",
    "    return pmids"
   ]
  },
  {
   "cell_type": "code",
   "execution_count": null,
   "id": "773bc039-06d3-40be-84a4-488d2c37b461",
   "metadata": {
    "scrolled": true
   },
   "outputs": [],
   "source": [
    "def get_citation_dict(pmids, pages=1, perPage=100):\n",
    "    citation_dict = {}\n",
    "    with alive_bar(len(pmids), force_tty=True) as bar:\n",
    "        for i, pmid in enumerate(pmids):\n",
    "            url = f\"https://www.ebi.ac.uk/europepmc/webservices/rest/MED/{pmid}/references?page={pages}&pageSize={perPage}&format=xml\"\n",
    "            response = requests.get(url)\n",
    "            tree = ElementTree.fromstring(response.content)\n",
    "\n",
    "            # List to hold PMIDs that the current paper cites.\n",
    "            cited_pmids = []\n",
    "            # The XML is assumed to have <reference> elements each containing a <pmid> element.\n",
    "            for ref in tree.findall('.//reference'):\n",
    "                cited_pmid_elem = ref.find('id')\n",
    "                if cited_pmid_elem is not None:\n",
    "                    cited_pmids.append(cited_pmid_elem.text)\n",
    "\n",
    "            citation_dict[pmid] = cited_pmids\n",
    "            bar()\n",
    "    return citation_dict"
   ]
  },
  {
   "cell_type": "code",
   "execution_count": null,
   "id": "3c2e84db-917d-4a39-ac2a-767869ca9adc",
   "metadata": {},
   "outputs": [],
   "source": [
    "def remove_no_refs(citation_dict):\n",
    "    return {key: value for key, value in citation_dict.items() if value}"
   ]
  },
  {
   "cell_type": "code",
   "execution_count": null,
   "id": "5938e285-e6cd-443d-a158-66ea96cdba6d",
   "metadata": {},
   "outputs": [],
   "source": [
    "keyword = \"bioinformatics\"\n",
    "pmids = []\n",
    "pages = 20\n",
    "with alive_bar(pages, force_tty=True) as bar:\n",
    "    for i in range(1, pages):\n",
    "        res = get_papers(keyword, pages=i, perPage=100)\n",
    "        pmids.append(res)\n",
    "        bar()\n",
    "    pmids = list(set(sum(pmids, [])))"
   ]
  },
  {
   "cell_type": "code",
   "execution_count": null,
   "id": "bf0c7aff-431f-4b49-a9ec-afadd22d8a21",
   "metadata": {},
   "outputs": [],
   "source": [
    "citation_dict = get_citation_dict(pmids)"
   ]
  },
  {
   "cell_type": "code",
   "execution_count": null,
   "id": "714731fb-75ca-4bf1-8034-857b7efe8699",
   "metadata": {},
   "outputs": [],
   "source": [
    "dg = nx.DiGraph(citation_dict)"
   ]
  },
  {
   "cell_type": "code",
   "execution_count": null,
   "id": "b901b464-93df-4a38-8682-1ec1c30d8ef2",
   "metadata": {},
   "outputs": [],
   "source": [
    "dg = remove_uninformative(dg)\n",
    "dg = remove_orphans(dg)"
   ]
  },
  {
   "cell_type": "code",
   "execution_count": null,
   "id": "e7985e95-607a-4ad5-b097-3cd404836633",
   "metadata": {},
   "outputs": [],
   "source": [
    "get_most_cited(dg, [0,1,2,3,4,5])"
   ]
  },
  {
   "cell_type": "code",
   "execution_count": null,
   "id": "fdf77fb0-ced2-4a53-aa4a-69dd9fdcf3e2",
   "metadata": {},
   "outputs": [],
   "source": [
    "# Create a PyVis network; set notebook=True if you're in a Jupyter notebook.\n",
    "net = Network(height=\"750px\", width=\"100%\", bgcolor=\"#222222\", font_color=\"white\", directed=True, notebook=True)\n",
    "net.show_buttons(filter_=['physics'])\n",
    "net.from_nx(dg)\n",
    "\n",
    "# Calculate indegree using networkx\n",
    "indegree_centrality = nx.in_degree_centrality(dg)\n",
    "\n",
    "min_indegree = min(indegree_centrality.values())\n",
    "max_indegree = max(indegree_centrality.values())\n",
    "\n",
    "# Color mapping function (linear interpolation from blue to red)\n",
    "def get_color(indegree):\n",
    "    normalized_indegree = (indegree - min_indegree) / (max_indegree - min_indegree) if (max_indegree - min_indegree) != 0 else 0\n",
    "    r = int(255 * normalized_indegree)\n",
    "    b = int(255 * (1 - normalized_indegree))\n",
    "    return f'rgb({r},20,{b})'\n",
    "\n",
    "# Apply colors to nodes\n",
    "for node_id, indegree in indegree_centrality.items():\n",
    "    node = net.get_node(node_id)\n",
    "    if node: # Check if node exists\n",
    "        node['color'] = get_color(indegree)\n",
    "        #node['color'] = 'blue'\n",
    "             \n",
    "        \n",
    "net.show('indegree_gradient_network.html')"
   ]
  }
 ],
 "metadata": {
  "kernelspec": {
   "display_name": "Python 3",
   "language": "python",
   "name": "python3"
  },
  "language_info": {
   "codemirror_mode": {
    "name": "ipython",
    "version": 3
   },
   "file_extension": ".py",
   "mimetype": "text/x-python",
   "name": "python",
   "nbconvert_exporter": "python",
   "pygments_lexer": "ipython3",
   "version": "3.6.13"
  }
 },
 "nbformat": 4,
 "nbformat_minor": 5
}
